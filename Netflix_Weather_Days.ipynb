{
 "cells": [
  {
   "cell_type": "markdown",
   "metadata": {},
   "source": [
    "# Exploratory Data Analysis:\n",
    "## Is there a corelation between the weather or the days of the week and how much I tend to watch on Netflix?"
   ]
  },
  {
   "cell_type": "markdown",
   "metadata": {},
   "source": [
    "Here we are going to analyze my Netflix viewing history from a downloaded csv file that lists the title of what I watched and the date of when I watched it. Combining this with local weather data from an API and the days of the week will allow me to test if:\n",
    "\n",
    "* I tend to watch more on the weekends\n",
    "* Watch more when the weather is good or bad\n",
    "* Anything else I might find\n",
    "\n",
    "To test this I will do a hypothesis test of the frequency of things watched on Saturdays and Sundays ( ie. my classification of the weekend) compared to how much I watched in the week (ie. Monday-Friday).\n",
    "To add on I will develop a algorithm to predict how many things I watched when given an unseen instance.\n"
   ]
  },
  {
   "cell_type": "markdown",
   "metadata": {},
   "source": [
    "To do these tests we need to combine these separate sets of data. To do this we first need to set up the API to get the weather from certain days and the days of the week. \n",
    "Since the first instance from the Netflix Viewing history csv file is dated \"7/30/16\" we need to import weather data and the days of the week from \"7/30/16\" to the last recorded day in the viewing history file which is \"4/9/2022\".\n",
    ">NOTE: for the weather I am going to just use the weather data from the Sammamish, WA area (where I live) since for the most part I watch netflix at home."
   ]
  },
  {
   "cell_type": "markdown",
   "metadata": {},
   "source": [
    "### Code to import all of the data\n",
    "I will be using the APi that we previously used for DA4. Slightly modifying it so that the dates correspond to the Netflix Viewing history csv file.\n",
    "##### Importing the Weather\n",
    "Step 1 to using the Weather API is to get the longitude and latitude of Sammamish, Washington. This is because this API finds the closest Weather station based on those coordinates "
   ]
  },
  {
   "cell_type": "code",
   "execution_count": 251,
   "metadata": {},
   "outputs": [
    {
     "name": "stdout",
     "output_type": "stream",
     "text": [
      "Sammamish latitude: 47.60553\n",
      "Sammamish longitude: -122.035555\n"
     ]
    }
   ],
   "source": [
    "import json\n",
    "import numpy as np\n",
    "import pandas as pd\n",
    "import requests\n",
    "\n",
    "f = open(\"lat.txt\", 'r')\n",
    "key = f.read()\n",
    "long_lat_url = \"http://www.mapquestapi.com/geocoding/v1/address?key=\" + key + \"&location=Sammamish\"\n",
    "request_city = requests.get(long_lat_url)\n",
    "json_city_str = request_city.text\n",
    "json_city_obj = json.loads(json_city_str)\n",
    "\n",
    "# getting latitiude and longititude of Sammamish\n",
    "city_results_list = json_city_obj[\"results\"]\n",
    "dict = city_results_list[0]\n",
    "locations_list = dict[\"locations\"]\n",
    "locations_dict = locations_list[0]\n",
    "longLat_dict = locations_dict[\"displayLatLng\"]\n",
    "latitude = longLat_dict[\"lat\"]\n",
    "longitude = longLat_dict[\"lng\"]\n",
    "\n",
    "print(\"Sammamish latitude:\", latitude)\n",
    "print(\"Sammamish longitude:\",longitude)"
   ]
  },
  {
   "cell_type": "markdown",
   "metadata": {},
   "source": [
    "Getting the weather stations ID using a separate API:"
   ]
  },
  {
   "cell_type": "code",
   "execution_count": 252,
   "metadata": {},
   "outputs": [
    {
     "name": "stdout",
     "output_type": "stream",
     "text": [
      "Weather Station ID: KRNT0\n"
     ]
    }
   ],
   "source": [
    "f = open(\"Weather.txt\", 'r')\n",
    "key = f.read()\n",
    "headers = {\"x-rapidapi-key\": key}\n",
    "url = \"https://meteostat.p.rapidapi.com/stations/nearby?lat=\" + str(latitude) + \"&lon=\" + str(longitude) + \"&limit=1\"\n",
    "request = requests.get(url = url, headers = headers)\n",
    "\n",
    "json_station_str = request.text\n",
    "json_station_obj = json.loads(json_station_str)\n",
    "station_list = json_station_obj[\"data\"]\n",
    "station_dict = station_list[0]\n",
    "station_id = station_dict[\"id\"]\n",
    "print(\"Weather Station ID:\", station_id)"
   ]
  },
  {
   "cell_type": "markdown",
   "metadata": {},
   "source": [
    "Now finally here we are loading the weather data collected from this weather station during the time period of 7/30/16 to 4/9/2022:"
   ]
  },
  {
   "cell_type": "code",
   "execution_count": 253,
   "metadata": {},
   "outputs": [
    {
     "name": "stdout",
     "output_type": "stream",
     "text": [
      "            date  tavg  tmin  tmax  prcp  snow   wdir  wspd  wpgt    pres  \\\n",
      "0     2016-07-30  19.8  15.6  25.0   0.0  None    NaN  11.2  None  1014.1   \n",
      "1     2016-07-31  18.4  14.4  22.8   0.0  None    NaN   9.1  None     NaN   \n",
      "2     2016-08-01  18.0  12.8  25.0   0.0  None    NaN   6.9  None  1018.2   \n",
      "3     2016-08-02  17.6  15.0  21.7   NaN  None    NaN   NaN  None     NaN   \n",
      "4     2016-08-03  19.2  15.6  23.9   0.0  None    NaN   NaN  None  1024.2   \n",
      "...          ...   ...   ...   ...   ...   ...    ...   ...   ...     ...   \n",
      "2075  2022-04-05   7.6   4.0  12.0   0.8  None  172.0  14.7  None  1025.3   \n",
      "2076  2022-04-06   8.8   2.0  16.0   0.0  None    6.0   9.7  None  1030.7   \n",
      "2077  2022-04-07  14.3   7.0  22.0   0.0  None  354.0   7.7  None  1021.4   \n",
      "2078  2022-04-08  10.1   7.0  15.0  10.2  None  194.0  18.2  None  1022.6   \n",
      "2079  2022-04-09   6.4   3.0   9.0   6.4  None  159.0  12.1  None  1024.6   \n",
      "\n",
      "      tsun  \n",
      "0     None  \n",
      "1     None  \n",
      "2     None  \n",
      "3     None  \n",
      "4     None  \n",
      "...    ...  \n",
      "2075  None  \n",
      "2076  None  \n",
      "2077  None  \n",
      "2078  None  \n",
      "2079  None  \n",
      "\n",
      "[2080 rows x 11 columns]\n"
     ]
    }
   ],
   "source": [
    "# get daily weather from station 2016-07-30 through 2022-04-09\n",
    "headers = {\"x-rapidapi-key\": key}\n",
    "weather_url = \"https://meteostat.p.rapidapi.com/stations/daily?station=\"+ station_id + \"&start=2016-07-30&end=2022-04-09\"\n",
    "request_weather = requests.get(url = weather_url, headers = headers)\n",
    "json_weather_str = request_weather.text\n",
    "json_weather_obj = json.loads(json_weather_str)\n",
    "weather_df = pd.DataFrame(json_weather_obj[\"data\"])\n",
    "# weather_df.set_index(\"date\", inplace = True)\n",
    "weather_df.to_csv(\"daily_weather.csv\")\n",
    "print(weather_df)\n"
   ]
  },
  {
   "cell_type": "markdown",
   "metadata": {},
   "source": [
    "##### Importing the days of the week:\n",
    "Next we need to load in the days of the week from 2016-07-30 through to 2022-04-09.\n",
    "To do this we are using the datetime library to create a series with the dates within this parameter and then the corresponding day of the week. This seires will then be added to the end of the weather dataframe that was created previously\n"
   ]
  },
  {
   "cell_type": "code",
   "execution_count": 254,
   "metadata": {},
   "outputs": [
    {
     "name": "stderr",
     "output_type": "stream",
     "text": [
      "C:\\Users\\georg\\AppData\\Local\\Temp/ipykernel_6320/3390690783.py:7: DeprecationWarning: The default dtype for empty Series will be 'object' instead of 'float64' in a future version. Specify a dtype explicitly to silence this warning.\n",
      "  change_ser = pd.Series(list())\n"
     ]
    },
    {
     "name": "stdout",
     "output_type": "stream",
     "text": [
      "<class 'str'>\n",
      "           Day of Week   Month\n",
      "Date                          \n",
      "2016-07-30    Saturday    July\n",
      "2016-07-31      Sunday    July\n",
      "2016-08-01      Monday  August\n",
      "2016-08-02     Tuesday  August\n",
      "2016-08-03   Wednesday  August\n",
      "...                ...     ...\n",
      "2022-04-05     Tuesday   April\n",
      "2022-04-06   Wednesday   April\n",
      "2022-04-07    Thursday   April\n",
      "2022-04-08      Friday   April\n",
      "2022-04-09    Saturday   April\n",
      "\n",
      "[2080 rows x 2 columns]\n"
     ]
    }
   ],
   "source": [
    "\n",
    "date_df = pd.DataFrame()\n",
    "date_df[\"Date\"] = pd.Series(pd.date_range('2016-7-30', '2022-4-9', freq='D'))\n",
    "date_df[\"Day of Week\"] = date_df['Date'].dt.day_name()\n",
    "date_df[\"Month\"] = date_df['Date'].dt.month_name()\n",
    "# change to string so I can compare easily\n",
    "\n",
    "change_ser = pd.Series(list())\n",
    "\n",
    "for value in range(len(date_df[\"Date\"])):\n",
    "    temp = str(date_df[\"Date\"][value]).split(\" \")\n",
    "    string = temp[0]\n",
    "    change_ser[value] = string\n",
    "date_df[\"Date\"] = change_ser\n",
    "\n",
    "print(type(date_df[\"Date\"][1]))\n",
    "date_df.set_index(\"Date\", inplace = True)\n",
    "date_df.to_csv(\"Days_of_The_Week.csv\")\n",
    "print(date_df)"
   ]
  },
  {
   "cell_type": "markdown",
   "metadata": {},
   "source": [
    "## Cleaning the data\n",
    "Now that we have loaded all of the data we need to create hypothesis tests and an algorithm, we need to clean the files in order to accurately do said things."
   ]
  },
  {
   "cell_type": "markdown",
   "metadata": {},
   "source": [
    "#### Cleaning the Weather DataFrame\n",
    "First we are going to clean the weather dataframe. We will be converting the temperatures to farenheit and then deleting the columns with more than 50 percent of the values missing"
   ]
  },
  {
   "cell_type": "code",
   "execution_count": 255,
   "metadata": {},
   "outputs": [
    {
     "name": "stdout",
     "output_type": "stream",
     "text": [
      "            index   tavg   tmin   tmax  prcp  wspd    pres\n",
      "Date                                                      \n",
      "2016-07-30      0  67.64  60.08  77.00   0.0  11.2  1014.1\n",
      "2016-07-31      1  65.12  57.92  73.04   0.0   9.1     NaN\n",
      "2016-08-01      2  64.40  55.04  77.00   0.0   6.9  1018.2\n",
      "2016-08-02      3  63.68  59.00  71.06   NaN   NaN     NaN\n",
      "2016-08-03      4  66.56  60.08  75.02   0.0   NaN  1024.2\n",
      "...           ...    ...    ...    ...   ...   ...     ...\n",
      "2022-04-05   2075  45.68  39.20  53.60   0.8  14.7  1025.3\n",
      "2022-04-06   2076  47.84  35.60  60.80   0.0   9.7  1030.7\n",
      "2022-04-07   2077  57.74  44.60  71.60   0.0   7.7  1021.4\n",
      "2022-04-08   2078  50.18  44.60  59.00  10.2  18.2  1022.6\n",
      "2022-04-09   2079  43.52  37.40  48.20   6.4  12.1  1024.6\n",
      "\n",
      "[2080 rows x 7 columns]\n"
     ]
    }
   ],
   "source": [
    "import utils\n",
    "# Cleaning and Interpolating\n",
    "weather_df.replace(\"\", np.NaN, inplace = True)\n",
    "length_df = len(weather_df)\n",
    "for value in weather_df:\n",
    "    ser = weather_df[value].copy()\n",
    "    weather_df[value] = ser\n",
    "    # removing columns with more than 50 percent of values missing\n",
    "    count = weather_df[value].isnull().sum()\n",
    "    if count > (length_df / 2):\n",
    "        del weather_df[value]\n",
    "weather_df.reset_index(inplace=True)\n",
    "\n",
    "# converting to imperial\n",
    "avg_temp_ser = weather_df[\"tavg\"].copy()\n",
    "min_temp_ser = weather_df[\"tmin\"].copy()\n",
    "max_temp_ser = weather_df[\"tmax\"].copy()\n",
    "for value in range(len(weather_df)):\n",
    "    avg_temp_ser[value] = utils.convert_temp(avg_temp_ser[value])\n",
    "    min_temp_ser[value] = utils.convert_temp(min_temp_ser[value])\n",
    "    max_temp_ser[value] = utils.convert_temp(max_temp_ser[value])\n",
    "weather_df[\"tavg\"] = avg_temp_ser\n",
    "weather_df[\"tmin\"] = min_temp_ser\n",
    "weather_df[\"tmax\"] = max_temp_ser\n",
    "weather_df = weather_df.rename({\"date\": \"Date\"}, axis = \"columns\")\n",
    "\n",
    "weather_df.set_index(\"Date\", inplace=True)\n",
    "print(weather_df)\n",
    "\n",
    "weather_df.to_csv(\"cleaned_daily_weather.csv\")\n"
   ]
  },
  {
   "cell_type": "markdown",
   "metadata": {},
   "source": [
    "#### Cleaning the Date Column of the Netflix Dataframe\n",
    "This will be converting the dates in this colunn from the format `4/9/22` to `2022-04-09`.\n",
    "This will allow us the combine the other two data sets easily since they are both in this format."
   ]
  },
  {
   "cell_type": "code",
   "execution_count": 256,
   "metadata": {},
   "outputs": [
    {
     "name": "stdout",
     "output_type": "stream",
     "text": [
      "0       2022-04-09\n",
      "1       2022-04-09\n",
      "2       2022-04-08\n",
      "3       2022-04-08\n",
      "4       2022-04-05\n",
      "           ...    \n",
      "2468    2016-08-01\n",
      "2469    2016-08-01\n",
      "2470    2016-07-30\n",
      "2471    2016-07-30\n",
      "2472    2016-07-30\n",
      "Name: Date, Length: 2473, dtype: object\n"
     ]
    }
   ],
   "source": [
    "netflix_df = pd.read_csv(\"NetflixViewingHistory_project.csv\")\n",
    "\n",
    "date_ser = netflix_df[\"Date\"].copy()\n",
    "\n",
    "for date in range(len(date_ser)):\n",
    "    temp = date_ser[date].split(\"/\")\n",
    "    year = \"20\" + temp[2]\n",
    "    month = temp[0]\n",
    "    if(len(temp[0]) == 1):\n",
    "        month = \"0\" + month\n",
    "    day = temp[1]\n",
    "    if(len(temp[1]) == 1):\n",
    "        day = \"0\" + day\n",
    "    final = year + \"-\" + month + \"-\" + day\n",
    "    date_ser[date] = final.strip()\n",
    "netflix_df[\"Date\"] = date_ser\n",
    "netflix_df.to_csv(\"cleaned_Netflix_Viewing_History.csv\")\n",
    "print(netflix_df[\"Date\"])"
   ]
  },
  {
   "cell_type": "markdown",
   "metadata": {},
   "source": [
    "#### Joining The Days Of The Week And The Weather For That Day:\n",
    "We are doing this since each of these dataframes have keys of the date, which can only have one instance, and since it will make it easier to compare and visualize this data."
   ]
  },
  {
   "cell_type": "code",
   "execution_count": 257,
   "metadata": {},
   "outputs": [
    {
     "name": "stdout",
     "output_type": "stream",
     "text": [
      "            index   tavg   tmin   tmax  prcp  wspd    pres Day of Week   Month\n",
      "Date                                                                          \n",
      "2016-07-30      0  67.64  60.08  77.00   0.0  11.2  1014.1    Saturday    July\n",
      "2016-07-31      1  65.12  57.92  73.04   0.0   9.1     NaN      Sunday    July\n",
      "2016-08-01      2  64.40  55.04  77.00   0.0   6.9  1018.2      Monday  August\n",
      "2016-08-02      3  63.68  59.00  71.06   NaN   NaN     NaN     Tuesday  August\n",
      "2016-08-03      4  66.56  60.08  75.02   0.0   NaN  1024.2   Wednesday  August\n",
      "...           ...    ...    ...    ...   ...   ...     ...         ...     ...\n",
      "2022-04-05   2075  45.68  39.20  53.60   0.8  14.7  1025.3     Tuesday   April\n",
      "2022-04-06   2076  47.84  35.60  60.80   0.0   9.7  1030.7   Wednesday   April\n",
      "2022-04-07   2077  57.74  44.60  71.60   0.0   7.7  1021.4    Thursday   April\n",
      "2022-04-08   2078  50.18  44.60  59.00  10.2  18.2  1022.6      Friday   April\n",
      "2022-04-09   2079  43.52  37.40  48.20   6.4  12.1  1024.6    Saturday   April\n",
      "\n",
      "[2080 rows x 9 columns]\n"
     ]
    }
   ],
   "source": [
    "merged_weather_dayWeek_df = weather_df.merge(date_df, on = [\"Date\"], how= \"inner\")\n",
    "print(merged_weather_dayWeek_df)"
   ]
  },
  {
   "cell_type": "markdown",
   "metadata": {},
   "source": [
    "#### Counting the number of things watched per day\n",
    "After counting the amount of things watched for each day we can then merge it with the previously merged data to see all the data combined to one dataframe. This will also make analyzing this data much easier"
   ]
  },
  {
   "cell_type": "code",
   "execution_count": 258,
   "metadata": {},
   "outputs": [
    {
     "name": "stdout",
     "output_type": "stream",
     "text": [
      "            index   tavg   tmin   tmax  prcp  wspd    pres Day of Week  \\\n",
      "Date                                                                     \n",
      "2016-07-30      0  67.64  60.08  77.00   0.0  11.2  1014.1    Saturday   \n",
      "2016-07-31      1  65.12  57.92  73.04   0.0   9.1     NaN      Sunday   \n",
      "2016-08-01      2  64.40  55.04  77.00   0.0   6.9  1018.2      Monday   \n",
      "2016-08-02      3  63.68  59.00  71.06   NaN   NaN     NaN     Tuesday   \n",
      "2016-08-03      4  66.56  60.08  75.02   0.0   NaN  1024.2   Wednesday   \n",
      "...           ...    ...    ...    ...   ...   ...     ...         ...   \n",
      "2022-04-05   2075  45.68  39.20  53.60   0.8  14.7  1025.3     Tuesday   \n",
      "2022-04-06   2076  47.84  35.60  60.80   0.0   9.7  1030.7   Wednesday   \n",
      "2022-04-07   2077  57.74  44.60  71.60   0.0   7.7  1021.4    Thursday   \n",
      "2022-04-08   2078  50.18  44.60  59.00  10.2  18.2  1022.6      Friday   \n",
      "2022-04-09   2079  43.52  37.40  48.20   6.4  12.1  1024.6    Saturday   \n",
      "\n",
      "             Month  Things Watched  \n",
      "Date                                \n",
      "2016-07-30    July             3.0  \n",
      "2016-07-31    July             NaN  \n",
      "2016-08-01  August             6.0  \n",
      "2016-08-02  August             7.0  \n",
      "2016-08-03  August             7.0  \n",
      "...            ...             ...  \n",
      "2022-04-05   April             1.0  \n",
      "2022-04-06   April             NaN  \n",
      "2022-04-07   April             NaN  \n",
      "2022-04-08   April             2.0  \n",
      "2022-04-09   April             2.0  \n",
      "\n",
      "[2080 rows x 10 columns]\n"
     ]
    }
   ],
   "source": [
    "watched_dates_list = list()\n",
    "freq_list = list()\n",
    "used_dates_list = list()\n",
    "watched_dates_df = pd.DataFrame(columns = [\"Date\", \"Things Watched\"])\n",
    "for date in netflix_df[\"Date\"]:\n",
    "    if date not in used_dates_list:\n",
    "        used_dates_list.append(date)\n",
    "        temp_df = netflix_df.loc[netflix_df[\"Date\"] == date]\n",
    "        watched_dates_list.append(date)\n",
    "        freq_list.append(len(temp_df))\n",
    "freq_list.reverse()\n",
    "watched_dates_list.reverse()\n",
    "watched_dates_df[\"Date\"] = watched_dates_list\n",
    "watched_dates_df[\"Things Watched\"] = freq_list\n",
    "watched_dates_df[\"Things Watched\"] = watched_dates_df[\"Things Watched\"].fillna(0)\n",
    "watched_dates_df.set_index(\"Date\", inplace = True)\n",
    "watched_dates_df.to_csv(\"Netflix_Frequency.csv\")\n",
    "\n",
    "fully_merged_df = merged_weather_dayWeek_df.merge(watched_dates_df, on = [\"Date\"], how= \"outer\")\n",
    "\n",
    "print(fully_merged_df)\n",
    "fully_merged_df.to_csv(\"Combined_Data.csv\")\n"
   ]
  },
  {
   "cell_type": "markdown",
   "metadata": {},
   "source": [
    "#### Dropping Columns that are not needed \n",
    "Now that we have combined all of the data we need into one dataframe we can drop the columns that we will not be needing when developing our hypothesis tests and other algorithms. These columns include:\n",
    "* wspd - the wind speed\n",
    "* pres - pressure\n",
    "* index - index"
   ]
  },
  {
   "cell_type": "code",
   "execution_count": 259,
   "metadata": {},
   "outputs": [
    {
     "name": "stdout",
     "output_type": "stream",
     "text": [
      "             tavg   tmin   tmax  prcp Day of Week   Month  Things Watched\n",
      "Date                                                                     \n",
      "2016-07-30  67.64  60.08  77.00   0.0    Saturday    July             3.0\n",
      "2016-07-31  65.12  57.92  73.04   0.0      Sunday    July             NaN\n",
      "2016-08-01  64.40  55.04  77.00   0.0      Monday  August             6.0\n",
      "2016-08-02  63.68  59.00  71.06   NaN     Tuesday  August             7.0\n",
      "2016-08-03  66.56  60.08  75.02   0.0   Wednesday  August             7.0\n",
      "...           ...    ...    ...   ...         ...     ...             ...\n",
      "2022-04-05  45.68  39.20  53.60   0.8     Tuesday   April             1.0\n",
      "2022-04-06  47.84  35.60  60.80   0.0   Wednesday   April             NaN\n",
      "2022-04-07  57.74  44.60  71.60   0.0    Thursday   April             NaN\n",
      "2022-04-08  50.18  44.60  59.00  10.2      Friday   April             2.0\n",
      "2022-04-09  43.52  37.40  48.20   6.4    Saturday   April             2.0\n",
      "\n",
      "[2080 rows x 7 columns]\n"
     ]
    }
   ],
   "source": [
    "fully_merged_df = fully_merged_df.drop(columns = [\"index\", \"wspd\", \"pres\"])\n",
    "print(fully_merged_df)"
   ]
  },
  {
   "cell_type": "markdown",
   "metadata": {},
   "source": [
    "## Classifying whether the weather for a certain day was bad, decent, or good\n",
    "Now we need an algorithm to signify whether or not the weather for a day was good bad or decent. This will allow me to distinguish if I tended to watch more when the weather was bad compared to when the weather was good. This will have to be decently arbritrary since it is really a matter of opinion if the weather is good or not for a certain day, so I will apply my own preferences to the weather since this is data collected on myself making it more or less accurate to my feelings or tendency to stay inside or be outside. Thus allowing us to see whether or not there is a correlation between these two attributes.\n",
    "\n",
    "### Deciding what is good, bad, or decent weather\n",
    "For me personally, coming from Washington, I would probably classify anything above the temperature of 65 degrees with no rain pretty good weather. At least to the point I would like to be outside instead of rotting away as I tend to do watching Netflix. So, based on this opinion of mine I would probably classify any day above the temperature 65 without rain a \"good\" weather day while anything from around 50 to 65 without rain a \"decent\" weather day and anything below 50, especially with rain, to be a bad weather day. Now the issue here is the rain. I woul probably call anything below the temperature of 70 with rain to be a \"bad\" weather day. Meaning I would probably rather be inside than outside if the weather was like that. So this leaves us with these classifications of weather:\n",
    "* Good Weather\n",
    "    * `wthr_desc_df[\"tavg\"][date] > 65 and wthr_desc_df[\"prcp\"][date] < 2`\n",
    "    * `wthr_desc_df[\"tavg\"][date] <= 65 and wthr_desc_df[\"tavg\"][date] > 50 and wthr_desc_df[\"prcp\"][date] < 2`\n",
    "* Bad Weather \n",
    "    * `wthr_desc_df[\"tavg\"][date] <= 50 and wthr_desc_df[\"prcp\"][date] < 2`\n",
    "    * `wthr_desc_df[\"tavg\"][date] <= 70 and wthr_desc_df[\"prcp\"][date] >= 2`\n",
    "### Utilizing Algorithm to Develop new Column"
   ]
  },
  {
   "cell_type": "code",
   "execution_count": 260,
   "metadata": {},
   "outputs": [
    {
     "name": "stdout",
     "output_type": "stream",
     "text": [
      "             tavg   tmin   tmax  prcp Day of Week   Month Wthr Desc.  \\\n",
      "Date                                                                   \n",
      "2016-07-30  67.64  60.08  77.00   0.0    Saturday    July       good   \n",
      "2016-07-31  65.12  57.92  73.04   0.0      Sunday    July       good   \n",
      "2016-08-01  64.40  55.04  77.00   0.0      Monday  August       good   \n",
      "2016-08-02  63.68  59.00  71.06   NaN     Tuesday  August        bad   \n",
      "2016-08-03  66.56  60.08  75.02   0.0   Wednesday  August       good   \n",
      "\n",
      "            Things Watched  \n",
      "Date                        \n",
      "2016-07-30             3.0  \n",
      "2016-07-31             NaN  \n",
      "2016-08-01             6.0  \n",
      "2016-08-02             7.0  \n",
      "2016-08-03             7.0  \n"
     ]
    }
   ],
   "source": [
    "wthr_desc_df = pd.DataFrame(columns = [\"Date\", \"tavg\", \"prcp\", \"Wthr Desc.\"])\n",
    "wthr_desc_df[\"Date\"] = fully_merged_df.index.tolist()\n",
    "wthr_desc_df.set_index(\"Date\", inplace=True)\n",
    "tavg_ser = fully_merged_df[\"tavg\"].copy()\n",
    "wthr_desc_df[\"tavg\"] = tavg_ser\n",
    "wthr_desc_df[\"prcp\"] = fully_merged_df[\"prcp\"]\n",
    "wthr_desc_ser = pd.Series(string)\n",
    "for date in range(len(wthr_desc_df)):\n",
    "    if wthr_desc_df[\"tavg\"][date] > 65 and wthr_desc_df[\"prcp\"][date] < 2:\n",
    "        wthr_desc_ser[date] = \"good\"\n",
    "    elif wthr_desc_df[\"tavg\"][date] <= 65 and wthr_desc_df[\"tavg\"][date] > 50 and wthr_desc_df[\"prcp\"][date] < 2:\n",
    "        wthr_desc_ser[date] = \"good\"\n",
    "    elif wthr_desc_df[\"tavg\"][date] <= 50 and wthr_desc_df[\"prcp\"][date] < 2:\n",
    "        wthr_desc_ser[date] = \"bad\"\n",
    "    elif wthr_desc_df[\"tavg\"][date] <= 70 and wthr_desc_df[\"prcp\"][date] >= 2:\n",
    "        wthr_desc_ser[date] = \"bad\"\n",
    "    else:\n",
    "        wthr_desc_ser[date] = \"bad\"\n",
    "\n",
    "\n",
    "wthr_desc_ser.index = fully_merged_df.index\n",
    "\n",
    "fully_merged_df.insert(6, \"Wthr Desc.\", wthr_desc_ser)\n",
    "\n",
    "fully_merged_df.to_csv(\"Combined_Data.csv\")\n",
    "print(fully_merged_df.head())\n",
    "\n"
   ]
  },
  {
   "cell_type": "markdown",
   "metadata": {},
   "source": [
    "## Visualizing the frequency of things watched per day\n",
    "This will allow me to see if I tended to watch more on certain days. "
   ]
  },
  {
   "cell_type": "code",
   "execution_count": 261,
   "metadata": {},
   "outputs": [
    {
     "data": {
      "text/plain": [
       "Text(0.5, 1.0, 'Days of the Week vs. Number of Things Watched')"
      ]
     },
     "execution_count": 261,
     "metadata": {},
     "output_type": "execute_result"
    },
    {
     "data": {
      "image/png": "[encoded data removed]",
      "text/plain": [
       "<Figure size 432x288 with 1 Axes>"
      ]
     },
     "metadata": {
      "needs_background": "light"
     },
     "output_type": "display_data"
    }
   ],
   "source": [
    "import matplotlib.pyplot as plt\n",
    "days_list = [\"Monday\", \"Tuesday\", \"Wednesday\", \"Thursday\", \"Friday\", \"Saturday\", \"Sunday\"]\n",
    "days_freq = [0] * 7\n",
    "for day in range(len(days_list)):\n",
    "    temp_df = fully_merged_df.loc[fully_merged_df[\"Day of Week\"] == days_list[day]]\n",
    "    frequency = temp_df[\"Things Watched\"].sum()\n",
    "    days_freq[day] = frequency\n",
    "\n",
    "plt.figure()\n",
    "plt.bar(days_list, days_freq, color = \"green\")\n",
    "plt.xticks(rotation = 25, ha = \"right\")\n",
    "plt.xlabel(\"Days of the Week\")\n",
    "plt.ylabel(\"Number of things Watched\")\n",
    "plt.title(\"Days of the Week vs. Number of Things Watched\")"
   ]
  },
  {
   "cell_type": "markdown",
   "metadata": {},
   "source": [
    "Here we can see that the distribution is relatively the same. However the weekend does seem to be slightly larger, especially Saturday. Lets graph the weekend (Saturday, Sunday) compared to weekdays (Monday, Tuesday, Wednesday, Thursday, Friday)."
   ]
  },
  {
   "cell_type": "markdown",
   "metadata": {},
   "source": [
    "## Day Means Visualization"
   ]
  },
  {
   "cell_type": "code",
   "execution_count": 262,
   "metadata": {},
   "outputs": [
    {
     "data": {
      "text/plain": [
       "Text(0.5, 1.0, 'Days of the Week vs. Average Number of Things Watched')"
      ]
     },
     "execution_count": 262,
     "metadata": {},
     "output_type": "execute_result"
    },
    {
     "data": {
      "image/png": "[encoded data removed]",
      "text/plain": [
       "<Figure size 432x288 with 1 Axes>"
      ]
     },
     "metadata": {
      "needs_background": "light"
     },
     "output_type": "display_data"
    }
   ],
   "source": [
    "days_means = [0] * 7\n",
    "for day in range(len(days_list)):\n",
    "    temp_df = fully_merged_df.loc[fully_merged_df[\"Day of Week\"] == days_list[day]]\n",
    "    frequency = temp_df[\"Things Watched\"].mean()\n",
    "    days_freq[day] = frequency\n",
    "\n",
    "plt.figure()\n",
    "plt.bar(days_list, days_freq, color = \"green\")\n",
    "plt.xticks(rotation = 25, ha = \"right\")\n",
    "plt.xlabel(\"Days of the Week\")\n",
    "plt.ylabel(\"Average Number of Things Watched\")\n",
    "plt.title(\"Days of the Week vs. Average Number of Things Watched\")"
   ]
  },
  {
   "cell_type": "code",
   "execution_count": 263,
   "metadata": {},
   "outputs": [
    {
     "name": "stdout",
     "output_type": "stream",
     "text": [
      "Weekday = 1643.0\n",
      "Weekend = 830.0\n"
     ]
    },
    {
     "data": {
      "text/plain": [
       "Text(0.5, 1.0, 'Weekend or Weekday vs. Number of Things Watched')"
      ]
     },
     "execution_count": 263,
     "metadata": {},
     "output_type": "execute_result"
    },
    {
     "data": {
      "image/png": "[encoded data removed]",
      "text/plain": [
       "<Figure size 432x288 with 1 Axes>"
      ]
     },
     "metadata": {
      "needs_background": "light"
     },
     "output_type": "display_data"
    }
   ],
   "source": [
    "weekend_list = [\"Saturday\", \"Sunday\"]\n",
    "weekend_freq = 0\n",
    "weekday_freq = 0\n",
    "weekday_list = [\"Monday\", \"Tuesday\", \"Wednesday\", \"Thursday\", \"Friday\"]\n",
    "frequency = 0\n",
    "for day in range(len(weekend_list)):\n",
    "    temp_df = fully_merged_df.loc[fully_merged_df[\"Day of Week\"] == weekend_list[day]]\n",
    "    frequency = temp_df[\"Things Watched\"].sum()\n",
    "    weekend_freq += frequency\n",
    "frequency = 0\n",
    "for day in range(len(weekday_list)):\n",
    "    temp_df = fully_merged_df.loc[fully_merged_df[\"Day of Week\"] == weekday_list[day]]\n",
    "    frequency = temp_df[\"Things Watched\"].sum()\n",
    "    weekday_freq += frequency\n",
    "print(\"Weekday =\", weekday_freq)\n",
    "print(\"Weekend =\", weekend_freq)\n",
    "\n",
    "plt.figure()\n",
    "plt.bar([\"Weekday\", \"Weekend\"], [weekday_freq, weekend_freq], color = \"green\")\n",
    "plt.xlabel(\"Weekend or Weekday\")\n",
    "plt.ylabel(\"Number of things Watched\")\n",
    "plt.title(\"Weekend or Weekday vs. Number of Things Watched\")\n"
   ]
  },
  {
   "cell_type": "markdown",
   "metadata": {},
   "source": [
    "Here we can see that the Weekdays have a slightly higher frequency of things watched. However, this is the combonation of 4 different days in the week compared to my classification of the weekend with only 3 days. Hinting to the fact that the weekend despite having less days might have had a higher frequency on average. "
   ]
  },
  {
   "cell_type": "markdown",
   "metadata": {},
   "source": [
    "## Visualizing the Months and things watched"
   ]
  },
  {
   "cell_type": "code",
   "execution_count": 264,
   "metadata": {},
   "outputs": [
    {
     "data": {
      "text/plain": [
       "Text(0.5, 1.0, 'Month vs. Average')"
      ]
     },
     "execution_count": 264,
     "metadata": {},
     "output_type": "execute_result"
    },
    {
     "data": {
      "image/png": "[encoded data removed]",
      "text/plain": [
       "<Figure size 432x288 with 1 Axes>"
      ]
     },
     "metadata": {
      "needs_background": "light"
     },
     "output_type": "display_data"
    },
    {
     "data": {
      "image/png": "[encoded data removed]",
      "text/plain": [
       "<Figure size 432x288 with 1 Axes>"
      ]
     },
     "metadata": {
      "needs_background": "light"
     },
     "output_type": "display_data"
    }
   ],
   "source": [
    "month_list = [\"January\", \"February\", \"March\", \"April\", \"May\", \"June\", \"July\", \"August\", \"September\",\"October\", \"November\", \"December\"]\n",
    "month_freq = [0] * 12\n",
    "\n",
    "for month in range(len(month_list)):\n",
    "    temp_df = fully_merged_df.loc[fully_merged_df[\"Month\"] == month_list[month]]\n",
    "    frequency = temp_df[\"Things Watched\"].sum()\n",
    "    month_freq[month] = frequency\n",
    "\n",
    "plt.figure()\n",
    "plt.bar(month_list, month_freq, color = \"green\")\n",
    "plt.xticks(rotation = 25, ha = \"right\")\n",
    "plt.xlabel(\"Months\")\n",
    "plt.ylabel(\"Number of things Watched\")\n",
    "plt.title(\"Month vs. Number of Things Watched\")\n",
    "\n",
    "mean_months = [0] * 12\n",
    "for month in range(len(month_list)):\n",
    "    temp_df = fully_merged_df.loc[fully_merged_df[\"Month\"] == month_list[month]]\n",
    "    frequency = temp_df[\"Things Watched\"].mean()\n",
    "    mean_months[month] = frequency\n",
    "\n",
    "plt.figure()\n",
    "plt.bar(month_list, mean_months, color = \"green\")\n",
    "plt.xticks(rotation = 25, ha = \"right\")\n",
    "plt.xlabel(\"Months\")\n",
    "plt.ylabel(\"Average of things Watched\")\n",
    "plt.title(\"Month vs. Average\")"
   ]
  },
  {
   "cell_type": "markdown",
   "metadata": {},
   "source": [
    "## Visualizing Things Watched per day based on Weather Descriptions\n",
    "This will allow us to see if there is a corelation between the weather for the day and the number of things watched."
   ]
  },
  {
   "cell_type": "code",
   "execution_count": 265,
   "metadata": {},
   "outputs": [
    {
     "data": {
      "text/plain": [
       "Text(0.5, 1.0, 'Description of the Weather vs. # of Things Watched')"
      ]
     },
     "execution_count": 265,
     "metadata": {},
     "output_type": "execute_result"
    },
    {
     "data": {
      "image/png": "[encoded data removed]",
      "text/plain": [
       "<Figure size 432x288 with 1 Axes>"
      ]
     },
     "metadata": {
      "needs_background": "light"
     },
     "output_type": "display_data"
    }
   ],
   "source": [
    "descr_list = [\"good\", \"bad\"]\n",
    "freq_list = [0] * 2\n",
    "for descr in range(len(descr_list)):\n",
    "    temp_df = fully_merged_df.loc[fully_merged_df[\"Wthr Desc.\"] == descr_list[descr]]\n",
    "    frequency = temp_df[\"Things Watched\"].sum()\n",
    "    freq_list[descr] = frequency\n",
    "plt.figure()\n",
    "plt.bar(descr_list, freq_list, color = \"green\")\n",
    "plt.xlabel(\"Description of the Weather\")\n",
    "plt.ylabel(\"# of Things Watched\")\n",
    "plt.title(\"Description of the Weather vs. # of Things Watched\")"
   ]
  },
  {
   "cell_type": "code",
   "execution_count": 266,
   "metadata": {},
   "outputs": [
    {
     "data": {
      "text/plain": [
       "Text(0.5, 1.0, 'Description of the Weather vs. Average # of Things Watched')"
      ]
     },
     "execution_count": 266,
     "metadata": {},
     "output_type": "execute_result"
    },
    {
     "data": {
      "image/png": "[encoded data removed]",
      "text/plain": [
       "<Figure size 432x288 with 1 Axes>"
      ]
     },
     "metadata": {
      "needs_background": "light"
     },
     "output_type": "display_data"
    }
   ],
   "source": [
    "mean_list = [0] * 2\n",
    "for descr in range(len(descr_list)):\n",
    "    temp_df = fully_merged_df.loc[fully_merged_df[\"Wthr Desc.\"] == descr_list[descr]]\n",
    "    frequency = temp_df[\"Things Watched\"].mean()\n",
    "    mean_list[descr] = frequency\n",
    "plt.figure()\n",
    "plt.bar(descr_list, mean_list, color = \"green\")\n",
    "plt.xlabel(\"Description of the Weather\")\n",
    "plt.ylabel(\"Average # of Things Watched\")\n",
    "plt.title(\"Description of the Weather vs. Average # of Things Watched\")"
   ]
  },
  {
   "cell_type": "markdown",
   "metadata": {},
   "source": [
    "Based on the two previous graphs we can see that while overall I watched more things when the weather was classified as bad, I seemed to watch more things on average when the weather was good. A possible explanantion to this could be the Summer months where I tend not to have as many responsibilities so I watch more, and since in the Summer, even in Washington, the weather is usually good during that time. Thus, causing the average number of things watched for good weather days be greater than that of the bad weather days."
   ]
  },
  {
   "cell_type": "markdown",
   "metadata": {},
   "source": [
    "## Hypothesis Testing \n",
    "Based on the visualizations of the data I have gathered on myself I believe some hypothesis tests we should conduct include teh comparisons:\n",
    "* Saturdays average # number of things watched compared to the other days of the week \n",
    "* The average number of things watched during the week and then the Weekend\n",
    "* The average number of things watched on a good weather day compared to a bad one \n",
    "\n",
    "Now each of these test will be a dependent one sample test of the means since the number of things watched is dependent on the day of the week and then the weather. Plus, they are one sample tests since the data has been collected on only my own Netflix Viewing history."
   ]
  },
  {
   "cell_type": "markdown",
   "metadata": {},
   "source": [
    "### Is the number of things watched on average for the day of the Saturday higher than that of a Weekday?\n",
    "Using a significance level of .025 we are going to compute a two independent sample one tailed hypothesis test asking if the average number of things watched on a Saturday higher than that of any other day?\n",
    "##### Calculations\n",
    "Identifying null and alternative Hypotheses:\n",
    "* $H_{0} = \\mu_{Other} >= \\mu_{Saturday}$\n",
    "* $H_{1} = \\mu_{Other} < \\mu_{Saturday}$\n",
    "\n",
    "Level of Significance:\n",
    "* $\\alpha = .025$\n",
    "\n",
    "Test Statistic:\n",
    "* will be using a t-test:\n",
    "$$t = \\frac{\\overline{X}_{Other} - \\overline{X}_{Saturday}}{\\sqrt{S_p^2(\\frac{1}{n_{Other}})+(\\frac{1}{n_{Saturday}})}}$$\n",
    "$$S_p^2 = \\frac{(n_{Other} - 1)s_{Other}^2 + (n_{Saturday} - 1)s_{Saturday}^2}{n_{Other} + n_{Saturday} - 2}$$\n",
    "\n",
    "Degrees Freedom:\n",
    "* $df = n_{Other} + n_{Saturday} - 2$\n",
    "\n",
    "T-Critical:\n",
    "* $t_{crit} = 1.960$\n",
    "\n",
    "Decision Rule:\n",
    "* If the value of t is larger than that of $t_{crit}$ then wewill have enough evidence to reject the null hypothesis. Meaning that the average number of things Watched is higher on a Saturday than the average number of things watched on any other day ."
   ]
  },
  {
   "cell_type": "code",
   "execution_count": 267,
   "metadata": {},
   "outputs": [
    {
     "name": "stdout",
     "output_type": "stream",
     "text": [
      "2.9978343559788017\n",
      "3.081081081081081\n",
      "t = 0.34072092733641357 pval = 0.36697422465904983\n",
      "do not reject H0\n"
     ]
    }
   ],
   "source": [
    "from scipy import stats\n",
    "weekday_sums_list = [0] * 6\n",
    "other_days_list = [\"Monday\", \"Tuesday\", \"Wednesday\", \"Thursday\", \"Friday\", \"Sunday\"]\n",
    "for weekday in range(len(other_days_list)):\n",
    "    temp_df = fully_merged_df.loc[fully_merged_df[\"Day of Week\"] == other_days_list[weekday]]\n",
    "    weekday_sums_list[weekday] = temp_df[\"Things Watched\"].mean()\n",
    "weekday_ser = pd.Series(weekday_sums_list)\n",
    "print(weekday_ser.mean())\n",
    "\n",
    "\n",
    "saturday_df = fully_merged_df.loc[fully_merged_df[\"Day of Week\"] == \"Saturday\"]\n",
    "saturday_ser = saturday_df[\"Things Watched\"] \n",
    "print(saturday_ser.mean())\n",
    "\n",
    "t, pval = stats.ttest_ind(saturday_ser, weekday_ser, equal_var=False, nan_policy=\"omit\")\n",
    "pval /= 2\n",
    "alpha = .025\n",
    "\n",
    "print(\"t =\", t, \"pval =\", pval)\n",
    "\n",
    "if pval < alpha:\n",
    "    print(\"reject H0\")\n",
    "else:\n",
    "    print(\"do not reject H0\")"
   ]
  },
  {
   "cell_type": "markdown",
   "metadata": {},
   "source": [
    "Here we can see that the means for things watched during any other day and Saturday are very similar. To add on, this means that we cannot reject the null hypothesis that the mean of things watched during the week are greater than or equal to teh avergae nuber of things watched on a Saturday"
   ]
  },
  {
   "cell_type": "markdown",
   "metadata": {},
   "source": [
    "### Is the number of things watched on average for the Weekend higher than that of a Weekday?\n",
    "Using a significance level of .1 we are going to compute a two independent sample one tailed hypothesis test asking if the average number of things watched on the weekend higher than that of a weekday?\n",
    "##### Calculations\n",
    "Identifying null and alternative Hypotheses:\n",
    "* $H_{0} = \\mu_{Week} >= \\mu_{Weekend}$\n",
    "* $H_{1} = \\mu_{Week} < \\mu_{Weekend}$\n",
    "\n",
    "Level of Significance:\n",
    "* $\\alpha = .1$\n",
    "\n",
    "Test Statistic:\n",
    "* will be using a t-test:\n",
    "$$t = \\frac{\\overline{X}_{Week} - \\overline{X}_{Weekend}}{\\sqrt{S_p^2(\\frac{1}{n_{Week}})+(\\frac{1}{n_{Weekend}})}}$$\n",
    "$$S_p^2 = \\frac{(n_{Week} - 1)s_{Week}^2 + (n_{Weekend} - 1)s_{Weekend}^2}{n_{Week} + n_{Weekend} - 2}$$\n",
    "\n",
    "Degrees Freedom:\n",
    "* $df = n_{Week} + n_{Weekend} - 2$\n",
    "\n",
    "T-Critical:\n",
    "* $t_{crit} = 1.645$\n",
    "\n",
    "Decision Rule:\n",
    "* If the value of t is larger than that of $t_{crit}$ then we will have enough evidence to reject the null hypothesis. Meaning that the average number of things Watched is higher on the Weekend than the average number of things watched on a weekday ."
   ]
  },
  {
   "cell_type": "code",
   "execution_count": 268,
   "metadata": {},
   "outputs": [
    {
     "name": "stdout",
     "output_type": "stream",
     "text": [
      "Weekend Mean: 3.1666274970622794\n",
      "Weekday Mean: 2.9978343559788017\n",
      "t = 1.3523942398632398 pval = 0.1273618102456923\n",
      "do not reject H0\n"
     ]
    }
   ],
   "source": [
    "weekend_sums_list = [0] * 2\n",
    "\n",
    "for weekend in range(len(weekend_list)):\n",
    "    temp_df = fully_merged_df.loc[fully_merged_df[\"Day of Week\"] == weekend_list[weekend]]\n",
    "    weekend_sums_list[weekend] = temp_df[\"Things Watched\"].mean()\n",
    "weekend_ser = pd.Series(weekend_sums_list)\n",
    "print(\"Weekend Mean:\", weekend_ser.mean())\n",
    "print(\"Weekday Mean:\", weekday_ser.mean())\n",
    "\n",
    "\n",
    "\n",
    "\n",
    "t, pval = stats.ttest_ind(weekend_ser, weekday_ser, equal_var=False, nan_policy=\"omit\")\n",
    "pval /= 2\n",
    "alpha = .1\n",
    "\n",
    "print(\"t =\", t, \"pval =\", pval)\n",
    "\n",
    "if pval < alpha:\n",
    "    print(\"reject H0\")\n",
    "else:\n",
    "    print(\"do not reject H0\")"
   ]
  },
  {
   "cell_type": "markdown",
   "metadata": {},
   "source": [
    "Now since the calculated T is higher than T critical with a significance of .1 we have enough evidence to reject the null Hypothesis and accept that the average number of things watched on the Weekend is higher than that of the weekday"
   ]
  },
  {
   "cell_type": "markdown",
   "metadata": {},
   "source": [
    "### Is the number of things watched on a day classified with good weather greater than that classified with bad weather?\n",
    "Using a significance level of .01 we are going to compute a two independent sample one tailed hypothesis test asking if the average number of things watched on the good weather day higher than that of a bad weather day?\n",
    "##### Calculations\n",
    "Identifying null and alternative Hypotheses:\n",
    "* $H_{0} = \\mu_{bad} >= \\mu_{good}$\n",
    "* $H_{1} = \\mu_{bad} < \\mu_{good}$\n",
    "\n",
    "Level of Significance:\n",
    "* $\\alpha = .01$\n",
    "\n",
    "Test Statistic:\n",
    "* will be using a t-test:\n",
    "$$t = \\frac{\\overline{X}_{bad} - \\overline{X}_{good}}{\\sqrt{S_p^2(\\frac{1}{n_{bad}})+(\\frac{1}{n_{good}})}}$$\n",
    "$$S_p^2 = \\frac{(n_{bad} - 1)s_{bad}^2 + (n_{good} - 1)s_{good}^2}{n_{bad} + n_{good} - 2}$$\n",
    "\n",
    "Degrees Freedom:\n",
    "* $df = n_{good} + n_{bad} - 2$\n",
    "\n",
    "T-Critical:\n",
    "* $t_{crit} = 2.33$\n",
    "\n",
    "Decision Rule:\n",
    "* If the value of t is larger than that of $t_{crit}$ then we will have enough evidence to reject the null hypothesis. Meaning that the average number of things watched is higher on the good days than the average number of things watched on a bad day."
   ]
  },
  {
   "cell_type": "code",
   "execution_count": 269,
   "metadata": {},
   "outputs": [
    {
     "name": "stdout",
     "output_type": "stream",
     "text": [
      "Bad weather mean: 2.8404452690166977\n",
      "Good Weather mean: 3.3286219081272086\n",
      "t = 2.5914709476898548 pval = 0.004923244802463271\n",
      "reject H0\n"
     ]
    }
   ],
   "source": [
    "bad_df = fully_merged_df.loc[fully_merged_df[\"Wthr Desc.\"] == \"bad\"]\n",
    "good_df = fully_merged_df.loc[fully_merged_df[\"Wthr Desc.\"] == \"good\"]\n",
    "bad_ser = bad_df[\"Things Watched\"]\n",
    "good_ser = good_df[\"Things Watched\"]\n",
    "\n",
    "print(\"Bad weather mean:\", bad_ser.mean())\n",
    "print(\"Good Weather mean:\", good_ser.mean())\n",
    "\n",
    "t, pval = stats.ttest_ind(good_ser, bad_ser, equal_var=False, nan_policy=\"omit\")\n",
    "\n",
    "pval /= 2\n",
    "alpha = .01\n",
    "\n",
    "print(\"t =\", t, \"pval =\", pval)\n",
    "\n",
    "if pval < alpha:\n",
    "    print(\"reject H0\")\n",
    "else:\n",
    "    print(\"do not reject H0\")\n"
   ]
  },
  {
   "cell_type": "markdown",
   "metadata": {},
   "source": [
    "This means that this test gives us enough evidence to reject the null hypothesis and accept the fact that the average number of things watched on days classified with good weather is greater than that of a day classified with bad weather "
   ]
  },
  {
   "cell_type": "code",
   "execution_count": 270,
   "metadata": {},
   "outputs": [
    {
     "name": "stdout",
     "output_type": "stream",
     "text": [
      "             tavg   tmin   tmax  prcp  Day of Week  Month  Wthr Desc.  \\\n",
      "Date                                                                    \n",
      "2016-07-30  67.64  60.08  77.00   0.0            2      5           1   \n",
      "2016-07-31  65.12  57.92  73.04   0.0            3      5           1   \n",
      "2016-08-01  64.40  55.04  77.00   0.0            1      1           1   \n",
      "2016-08-02  63.68  59.00  71.06   NaN            5      1           0   \n",
      "2016-08-03  66.56  60.08  75.02   0.0            6      1           1   \n",
      "...           ...    ...    ...   ...          ...    ...         ...   \n",
      "2022-04-05  45.68  39.20  53.60   0.8            5      0           0   \n",
      "2022-04-06  47.84  35.60  60.80   0.0            6      0           0   \n",
      "2022-04-07  57.74  44.60  71.60   0.0            4      0           1   \n",
      "2022-04-08  50.18  44.60  59.00  10.2            0      0           0   \n",
      "2022-04-09  43.52  37.40  48.20   6.4            2      0           0   \n",
      "\n",
      "            Things Watched  \n",
      "Date                        \n",
      "2016-07-30             3.0  \n",
      "2016-07-31             NaN  \n",
      "2016-08-01             6.0  \n",
      "2016-08-02             7.0  \n",
      "2016-08-03             7.0  \n",
      "...                    ...  \n",
      "2022-04-05             1.0  \n",
      "2022-04-06             NaN  \n",
      "2022-04-07             NaN  \n",
      "2022-04-08             2.0  \n",
      "2022-04-09             2.0  \n",
      "\n",
      "[2080 rows x 8 columns]\n"
     ]
    },
    {
     "name": "stderr",
     "output_type": "stream",
     "text": [
      "C:\\Users\\georg\\AppData\\Local\\Temp/ipykernel_6320/451547675.py:16: FutureWarning: this method is deprecated in favour of `Styler.format(precision=..)`\n",
      "  corr_df.style.background_gradient(cmap='bwr').set_precision(2)\n"
     ]
    },
    {
     "data": {
      "text/html": [
       "<style type=\"text/css\">\n",
       "#T_b6d2c_row0_col0, #T_b6d2c_row1_col1, #T_b6d2c_row2_col2, #T_b6d2c_row3_col3, #T_b6d2c_row4_col4, #T_b6d2c_row5_col5, #T_b6d2c_row6_col6, #T_b6d2c_row7_col7 {\n",
       "  background-color: #ff0000;\n",
       "  color: #f1f1f1;\n",
       "}\n",
       "#T_b6d2c_row0_col1, #T_b6d2c_row1_col0 {\n",
       "  background-color: #ff1616;\n",
       "  color: #f1f1f1;\n",
       "}\n",
       "#T_b6d2c_row0_col2, #T_b6d2c_row2_col0 {\n",
       "  background-color: #ff0a0a;\n",
       "  color: #f1f1f1;\n",
       "}\n",
       "#T_b6d2c_row0_col3 {\n",
       "  background-color: #3c3cff;\n",
       "  color: #f1f1f1;\n",
       "}\n",
       "#T_b6d2c_row0_col4, #T_b6d2c_row5_col4 {\n",
       "  background-color: #1616ff;\n",
       "  color: #f1f1f1;\n",
       "}\n",
       "#T_b6d2c_row0_col5, #T_b6d2c_row6_col7 {\n",
       "  background-color: #4a4aff;\n",
       "  color: #f1f1f1;\n",
       "}\n",
       "#T_b6d2c_row0_col6 {\n",
       "  background-color: #ff7676;\n",
       "  color: #f1f1f1;\n",
       "}\n",
       "#T_b6d2c_row0_col7, #T_b6d2c_row1_col7 {\n",
       "  background-color: #7070ff;\n",
       "  color: #f1f1f1;\n",
       "}\n",
       "#T_b6d2c_row1_col2 {\n",
       "  background-color: #ff3838;\n",
       "  color: #f1f1f1;\n",
       "}\n",
       "#T_b6d2c_row1_col3 {\n",
       "  background-color: #5858ff;\n",
       "  color: #f1f1f1;\n",
       "}\n",
       "#T_b6d2c_row1_col4, #T_b6d2c_row3_col5, #T_b6d2c_row4_col5 {\n",
       "  background-color: #1212ff;\n",
       "  color: #f1f1f1;\n",
       "}\n",
       "#T_b6d2c_row1_col5 {\n",
       "  background-color: #5454ff;\n",
       "  color: #f1f1f1;\n",
       "}\n",
       "#T_b6d2c_row1_col6 {\n",
       "  background-color: #ffa0a0;\n",
       "  color: #000000;\n",
       "}\n",
       "#T_b6d2c_row2_col1 {\n",
       "  background-color: #ff3e3e;\n",
       "  color: #f1f1f1;\n",
       "}\n",
       "#T_b6d2c_row2_col3 {\n",
       "  background-color: #2626ff;\n",
       "  color: #f1f1f1;\n",
       "}\n",
       "#T_b6d2c_row2_col4 {\n",
       "  background-color: #1a1aff;\n",
       "  color: #f1f1f1;\n",
       "}\n",
       "#T_b6d2c_row2_col5, #T_b6d2c_row4_col0 {\n",
       "  background-color: #4848ff;\n",
       "  color: #f1f1f1;\n",
       "}\n",
       "#T_b6d2c_row2_col6 {\n",
       "  background-color: #ff6a6a;\n",
       "  color: #f1f1f1;\n",
       "}\n",
       "#T_b6d2c_row2_col7, #T_b6d2c_row5_col1 {\n",
       "  background-color: #6c6cff;\n",
       "  color: #f1f1f1;\n",
       "}\n",
       "#T_b6d2c_row3_col0, #T_b6d2c_row3_col1, #T_b6d2c_row3_col2, #T_b6d2c_row3_col4, #T_b6d2c_row3_col6, #T_b6d2c_row3_col7, #T_b6d2c_row6_col3, #T_b6d2c_row7_col5 {\n",
       "  background-color: #0000ff;\n",
       "  color: #f1f1f1;\n",
       "}\n",
       "#T_b6d2c_row4_col1 {\n",
       "  background-color: #2828ff;\n",
       "  color: #f1f1f1;\n",
       "}\n",
       "#T_b6d2c_row4_col2 {\n",
       "  background-color: #6060ff;\n",
       "  color: #f1f1f1;\n",
       "}\n",
       "#T_b6d2c_row4_col3 {\n",
       "  background-color: #6a6aff;\n",
       "  color: #f1f1f1;\n",
       "}\n",
       "#T_b6d2c_row4_col6, #T_b6d2c_row5_col6 {\n",
       "  background-color: #8888ff;\n",
       "  color: #f1f1f1;\n",
       "}\n",
       "#T_b6d2c_row4_col7 {\n",
       "  background-color: #2a2aff;\n",
       "  color: #f1f1f1;\n",
       "}\n",
       "#T_b6d2c_row5_col0, #T_b6d2c_row5_col3, #T_b6d2c_row7_col1 {\n",
       "  background-color: #7c7cff;\n",
       "  color: #f1f1f1;\n",
       "}\n",
       "#T_b6d2c_row5_col2 {\n",
       "  background-color: #8c8cff;\n",
       "  color: #f1f1f1;\n",
       "}\n",
       "#T_b6d2c_row5_col7 {\n",
       "  background-color: #0a0aff;\n",
       "  color: #f1f1f1;\n",
       "}\n",
       "#T_b6d2c_row6_col0 {\n",
       "  background-color: #ff8686;\n",
       "  color: #f1f1f1;\n",
       "}\n",
       "#T_b6d2c_row6_col1 {\n",
       "  background-color: #ffc2c2;\n",
       "  color: #000000;\n",
       "}\n",
       "#T_b6d2c_row6_col2 {\n",
       "  background-color: #ff7272;\n",
       "  color: #f1f1f1;\n",
       "}\n",
       "#T_b6d2c_row6_col4, #T_b6d2c_row7_col4 {\n",
       "  background-color: #2424ff;\n",
       "  color: #f1f1f1;\n",
       "}\n",
       "#T_b6d2c_row6_col5 {\n",
       "  background-color: #2020ff;\n",
       "  color: #f1f1f1;\n",
       "}\n",
       "#T_b6d2c_row7_col0 {\n",
       "  background-color: #9494ff;\n",
       "  color: #f1f1f1;\n",
       "}\n",
       "#T_b6d2c_row7_col2 {\n",
       "  background-color: #a4a4ff;\n",
       "  color: #000000;\n",
       "}\n",
       "#T_b6d2c_row7_col3 {\n",
       "  background-color: #6666ff;\n",
       "  color: #f1f1f1;\n",
       "}\n",
       "#T_b6d2c_row7_col6 {\n",
       "  background-color: #a2a2ff;\n",
       "  color: #f1f1f1;\n",
       "}\n",
       "</style>\n",
       "<table id=\"T_b6d2c_\">\n",
       "  <thead>\n",
       "    <tr>\n",
       "      <th class=\"blank level0\" >&nbsp;</th>\n",
       "      <th class=\"col_heading level0 col0\" >tavg</th>\n",
       "      <th class=\"col_heading level0 col1\" >tmin</th>\n",
       "      <th class=\"col_heading level0 col2\" >tmax</th>\n",
       "      <th class=\"col_heading level0 col3\" >prcp</th>\n",
       "      <th class=\"col_heading level0 col4\" >Day of Week</th>\n",
       "      <th class=\"col_heading level0 col5\" >Month</th>\n",
       "      <th class=\"col_heading level0 col6\" >Wthr Desc.</th>\n",
       "      <th class=\"col_heading level0 col7\" >Things Watched</th>\n",
       "    </tr>\n",
       "  </thead>\n",
       "  <tbody>\n",
       "    <tr>\n",
       "      <th id=\"T_b6d2c_level0_row0\" class=\"row_heading level0 row0\" >tavg</th>\n",
       "      <td id=\"T_b6d2c_row0_col0\" class=\"data row0 col0\" >1.00</td>\n",
       "      <td id=\"T_b6d2c_row0_col1\" class=\"data row0 col1\" >0.95</td>\n",
       "      <td id=\"T_b6d2c_row0_col2\" class=\"data row0 col2\" >0.97</td>\n",
       "      <td id=\"T_b6d2c_row0_col3\" class=\"data row0 col3\" >-0.17</td>\n",
       "      <td id=\"T_b6d2c_row0_col4\" class=\"data row0 col4\" >0.00</td>\n",
       "      <td id=\"T_b6d2c_row0_col5\" class=\"data row0 col5\" >0.11</td>\n",
       "      <td id=\"T_b6d2c_row0_col6\" class=\"data row0 col6\" >0.69</td>\n",
       "      <td id=\"T_b6d2c_row0_col7\" class=\"data row0 col7\" >0.17</td>\n",
       "    </tr>\n",
       "    <tr>\n",
       "      <th id=\"T_b6d2c_level0_row1\" class=\"row_heading level0 row1\" >tmin</th>\n",
       "      <td id=\"T_b6d2c_row1_col0\" class=\"data row1 col0\" >0.95</td>\n",
       "      <td id=\"T_b6d2c_row1_col1\" class=\"data row1 col1\" >1.00</td>\n",
       "      <td id=\"T_b6d2c_row1_col2\" class=\"data row1 col2\" >0.86</td>\n",
       "      <td id=\"T_b6d2c_row1_col3\" class=\"data row1 col3\" >-0.10</td>\n",
       "      <td id=\"T_b6d2c_row1_col4\" class=\"data row1 col4\" >-0.01</td>\n",
       "      <td id=\"T_b6d2c_row1_col5\" class=\"data row1 col5\" >0.14</td>\n",
       "      <td id=\"T_b6d2c_row1_col6\" class=\"data row1 col6\" >0.58</td>\n",
       "      <td id=\"T_b6d2c_row1_col7\" class=\"data row1 col7\" >0.17</td>\n",
       "    </tr>\n",
       "    <tr>\n",
       "      <th id=\"T_b6d2c_level0_row2\" class=\"row_heading level0 row2\" >tmax</th>\n",
       "      <td id=\"T_b6d2c_row2_col0\" class=\"data row2 col0\" >0.97</td>\n",
       "      <td id=\"T_b6d2c_row2_col1\" class=\"data row2 col1\" >0.86</td>\n",
       "      <td id=\"T_b6d2c_row2_col2\" class=\"data row2 col2\" >1.00</td>\n",
       "      <td id=\"T_b6d2c_row2_col3\" class=\"data row2 col3\" >-0.23</td>\n",
       "      <td id=\"T_b6d2c_row2_col4\" class=\"data row2 col4\" >0.01</td>\n",
       "      <td id=\"T_b6d2c_row2_col5\" class=\"data row2 col5\" >0.11</td>\n",
       "      <td id=\"T_b6d2c_row2_col6\" class=\"data row2 col6\" >0.72</td>\n",
       "      <td id=\"T_b6d2c_row2_col7\" class=\"data row2 col7\" >0.17</td>\n",
       "    </tr>\n",
       "    <tr>\n",
       "      <th id=\"T_b6d2c_level0_row3\" class=\"row_heading level0 row3\" >prcp</th>\n",
       "      <td id=\"T_b6d2c_row3_col0\" class=\"data row3 col0\" >-0.17</td>\n",
       "      <td id=\"T_b6d2c_row3_col1\" class=\"data row3 col1\" >-0.10</td>\n",
       "      <td id=\"T_b6d2c_row3_col2\" class=\"data row3 col2\" >-0.23</td>\n",
       "      <td id=\"T_b6d2c_row3_col3\" class=\"data row3 col3\" >1.00</td>\n",
       "      <td id=\"T_b6d2c_row3_col4\" class=\"data row3 col4\" >-0.05</td>\n",
       "      <td id=\"T_b6d2c_row3_col5\" class=\"data row3 col5\" >-0.00</td>\n",
       "      <td id=\"T_b6d2c_row3_col6\" class=\"data row3 col6\" >-0.32</td>\n",
       "      <td id=\"T_b6d2c_row3_col7\" class=\"data row3 col7\" >-0.06</td>\n",
       "    </tr>\n",
       "    <tr>\n",
       "      <th id=\"T_b6d2c_level0_row4\" class=\"row_heading level0 row4\" >Day of Week</th>\n",
       "      <td id=\"T_b6d2c_row4_col0\" class=\"data row4 col0\" >0.00</td>\n",
       "      <td id=\"T_b6d2c_row4_col1\" class=\"data row4 col1\" >-0.01</td>\n",
       "      <td id=\"T_b6d2c_row4_col2\" class=\"data row4 col2\" >0.01</td>\n",
       "      <td id=\"T_b6d2c_row4_col3\" class=\"data row4 col3\" >-0.05</td>\n",
       "      <td id=\"T_b6d2c_row4_col4\" class=\"data row4 col4\" >1.00</td>\n",
       "      <td id=\"T_b6d2c_row4_col5\" class=\"data row4 col5\" >0.00</td>\n",
       "      <td id=\"T_b6d2c_row4_col6\" class=\"data row4 col6\" >0.03</td>\n",
       "      <td id=\"T_b6d2c_row4_col7\" class=\"data row4 col7\" >0.03</td>\n",
       "    </tr>\n",
       "    <tr>\n",
       "      <th id=\"T_b6d2c_level0_row5\" class=\"row_heading level0 row5\" >Month</th>\n",
       "      <td id=\"T_b6d2c_row5_col0\" class=\"data row5 col0\" >0.11</td>\n",
       "      <td id=\"T_b6d2c_row5_col1\" class=\"data row5 col1\" >0.14</td>\n",
       "      <td id=\"T_b6d2c_row5_col2\" class=\"data row5 col2\" >0.11</td>\n",
       "      <td id=\"T_b6d2c_row5_col3\" class=\"data row5 col3\" >-0.00</td>\n",
       "      <td id=\"T_b6d2c_row5_col4\" class=\"data row5 col4\" >0.00</td>\n",
       "      <td id=\"T_b6d2c_row5_col5\" class=\"data row5 col5\" >1.00</td>\n",
       "      <td id=\"T_b6d2c_row5_col6\" class=\"data row5 col6\" >0.03</td>\n",
       "      <td id=\"T_b6d2c_row5_col7\" class=\"data row5 col7\" >-0.04</td>\n",
       "    </tr>\n",
       "    <tr>\n",
       "      <th id=\"T_b6d2c_level0_row6\" class=\"row_heading level0 row6\" >Wthr Desc.</th>\n",
       "      <td id=\"T_b6d2c_row6_col0\" class=\"data row6 col0\" >0.69</td>\n",
       "      <td id=\"T_b6d2c_row6_col1\" class=\"data row6 col1\" >0.58</td>\n",
       "      <td id=\"T_b6d2c_row6_col2\" class=\"data row6 col2\" >0.72</td>\n",
       "      <td id=\"T_b6d2c_row6_col3\" class=\"data row6 col3\" >-0.32</td>\n",
       "      <td id=\"T_b6d2c_row6_col4\" class=\"data row6 col4\" >0.03</td>\n",
       "      <td id=\"T_b6d2c_row6_col5\" class=\"data row6 col5\" >0.03</td>\n",
       "      <td id=\"T_b6d2c_row6_col6\" class=\"data row6 col6\" >1.00</td>\n",
       "      <td id=\"T_b6d2c_row6_col7\" class=\"data row6 col7\" >0.10</td>\n",
       "    </tr>\n",
       "    <tr>\n",
       "      <th id=\"T_b6d2c_level0_row7\" class=\"row_heading level0 row7\" >Things Watched</th>\n",
       "      <td id=\"T_b6d2c_row7_col0\" class=\"data row7 col0\" >0.17</td>\n",
       "      <td id=\"T_b6d2c_row7_col1\" class=\"data row7 col1\" >0.17</td>\n",
       "      <td id=\"T_b6d2c_row7_col2\" class=\"data row7 col2\" >0.17</td>\n",
       "      <td id=\"T_b6d2c_row7_col3\" class=\"data row7 col3\" >-0.06</td>\n",
       "      <td id=\"T_b6d2c_row7_col4\" class=\"data row7 col4\" >0.03</td>\n",
       "      <td id=\"T_b6d2c_row7_col5\" class=\"data row7 col5\" >-0.04</td>\n",
       "      <td id=\"T_b6d2c_row7_col6\" class=\"data row7 col6\" >0.10</td>\n",
       "      <td id=\"T_b6d2c_row7_col7\" class=\"data row7 col7\" >1.00</td>\n",
       "    </tr>\n",
       "  </tbody>\n",
       "</table>\n"
      ],
      "text/plain": [
       "<pandas.io.formats.style.Styler at 0x299eabc78e0>"
      ]
     },
     "execution_count": 270,
     "metadata": {},
     "output_type": "execute_result"
    }
   ],
   "source": [
    "from sklearn.preprocessing import LabelEncoder\n",
    "le = LabelEncoder()\n",
    "le.fit([\"good\", \"bad\"])\n",
    "fully_merged_df[\"Wthr Desc.\"] = le.transform(fully_merged_df[\"Wthr Desc.\"])\n",
    "\n",
    "le_2 = LabelEncoder()\n",
    "le_2.fit(month_list)\n",
    "fully_merged_df[\"Month\"] = le_2.transform(fully_merged_df[\"Month\"])\n",
    "\n",
    "le_3 = LabelEncoder()\n",
    "le_3.fit(days_list)\n",
    "fully_merged_df[\"Day of Week\"] = le_3.transform(fully_merged_df[\"Day of Week\"])\n",
    "\n",
    "print(fully_merged_df)\n",
    "corr_df = fully_merged_df.corr()\n",
    "corr_df.style.background_gradient(cmap='bwr').set_precision(2)"
   ]
  }
 ],
 "metadata": {
  "interpreter": {
   "hash": "05e5263a5b3128ff67a7c8b075ff25752474a0d33381b4218d5af07966bbb998"
  },
  "kernelspec": {
   "display_name": "Python 3.9.7 ('base')",
   "language": "python",
   "name": "python3"
  },
  "language_info": {
   "codemirror_mode": {
    "name": "ipython",
    "version": 3
   },
   "file_extension": ".py",
   "mimetype": "text/x-python",
   "name": "python",
   "nbconvert_exporter": "python",
   "pygments_lexer": "ipython3",
   "version": "3.9.7"
  },
  "orig_nbformat": 4
 },
 "nbformat": 4,
 "nbformat_minor": 2
}
